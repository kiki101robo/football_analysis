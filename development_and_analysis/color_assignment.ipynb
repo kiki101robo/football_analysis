{
 "cells": [
  {
   "cell_type": "code",
   "execution_count": 3,
   "id": "a7bc5d1b",
   "metadata": {},
   "outputs": [
    {
     "name": "stdout",
     "output_type": "stream",
     "text": [
      "Defaulting to user installation because normal site-packages is not writeable\n",
      "Collecting scikit-learn\n",
      "  Downloading scikit_learn-1.7.0-cp312-cp312-manylinux_2_17_x86_64.manylinux2014_x86_64.whl.metadata (17 kB)\n",
      "Requirement already satisfied: numpy>=1.22.0 in /home/kirti/.local/lib/python3.12/site-packages (from scikit-learn) (2.2.5)\n",
      "Requirement already satisfied: scipy>=1.8.0 in /home/kirti/.local/lib/python3.12/site-packages (from scikit-learn) (1.15.3)\n",
      "Collecting joblib>=1.2.0 (from scikit-learn)\n",
      "  Downloading joblib-1.5.1-py3-none-any.whl.metadata (5.6 kB)\n",
      "Collecting threadpoolctl>=3.1.0 (from scikit-learn)\n",
      "  Downloading threadpoolctl-3.6.0-py3-none-any.whl.metadata (13 kB)\n",
      "Downloading scikit_learn-1.7.0-cp312-cp312-manylinux_2_17_x86_64.manylinux2014_x86_64.whl (12.5 MB)\n",
      "\u001b[2K   \u001b[38;2;114;156;31m━━━━━━━━━━━━━━━━━━━━━━━━━━━━━━━━━━━━━━━━\u001b[0m \u001b[32m12.5/12.5 MB\u001b[0m \u001b[31m3.3 MB/s\u001b[0m eta \u001b[36m0:00:00\u001b[0m[31m3.3 MB/s\u001b[0m eta \u001b[36m0:00:01\u001b[0m\n",
      "\u001b[?25hDownloading joblib-1.5.1-py3-none-any.whl (307 kB)\n",
      "Downloading threadpoolctl-3.6.0-py3-none-any.whl (18 kB)\n",
      "Installing collected packages: threadpoolctl, joblib, scikit-learn\n",
      "\u001b[2K   \u001b[38;2;114;156;31m━━━━━━━━━━━━━━━━━━━━━━━━━━━━━━━━━━━━━━━━\u001b[0m \u001b[32m3/3\u001b[0m [scikit-learn]━━━━━\u001b[0m \u001b[32m2/3\u001b[0m [scikit-learn]\n",
      "\u001b[1A\u001b[2KSuccessfully installed joblib-1.5.1 scikit-learn-1.7.0 threadpoolctl-3.6.0\n"
     ]
    }
   ],
   "source": [
    "!python3.12 -m pip install scikit-learn\n"
   ]
  },
  {
   "cell_type": "code",
   "execution_count": 4,
   "id": "0a902abd",
   "metadata": {},
   "outputs": [],
   "source": [
    "\n",
    "import cv2\n",
    "import matplotlib.pyplot as plt\n",
    "import numpy as np\n",
    "from sklearn.cluster import KMeans"
   ]
  },
  {
   "cell_type": "code",
   "execution_count": null,
   "id": "949a7ab1",
   "metadata": {},
   "outputs": [],
   "source": [
    "image_path = \"../output_videos/cropped_image.jpg\"\n",
    "image = cv2.imread(image_path)\n",
    "image = cv2.cvtColor(image, cv2.COLOR_BGR2RGB)"
   ]
  },
  {
   "cell_type": "code",
   "execution_count": null,
   "id": "53eb1437",
   "metadata": {},
   "outputs": [],
   "source": [
    "\n",
    "plt.imshow(image)\n",
    "plt.show()"
   ]
  },
  {
   "cell_type": "code",
   "execution_count": null,
   "id": "6f498447",
   "metadata": {},
   "outputs": [],
   "source": [
    "\n",
    "top_half_image=  image[0: int(image.shape[0]/2), :]\n",
    "plt.imshow(top_half_image)\n",
    "plt.show()"
   ]
  },
  {
   "cell_type": "code",
   "execution_count": null,
   "id": "26f17b7d",
   "metadata": {},
   "outputs": [],
   "source": [
    "\n",
    "# Reshape the image into 2d array\n",
    "image_2d = top_half_image.reshape(-1, 3)\n",
    "\n",
    "# perform k-means clustering with 2 clusters\n",
    "kmeans = KMeans(n_clusters=2, random_state=0)\n",
    "kmeans.fit(image_2d)\n",
    "\n",
    "# get the cluster labels\n",
    "labels = kmeans.labels_\n",
    "\n",
    "# reshape the labels into the orginal image shape\n",
    "clustered_image = labels.reshape(top_half_image.shape[0], top_half_image.shape[1])\n",
    "\n",
    "# Display the clustered image\n",
    "plt.imshow(clustered_image)\n",
    "plt.show()"
   ]
  },
  {
   "cell_type": "code",
   "execution_count": null,
   "id": "538f8e2c",
   "metadata": {},
   "outputs": [],
   "source": [
    "corner_clusters = [clustered_image[0, 0], clustered_image[0, -1], clustered_image[-1, 0], clustered_image[-1, -1]]\n",
    "non_player_cluster = max(set(corner_clusters), key=corner_clusters.count)\n",
    "print(non_player_cluster)"
   ]
  },
  {
   "cell_type": "code",
   "execution_count": null,
   "id": "34bc917f",
   "metadata": {},
   "outputs": [],
   "source": [
    "\n",
    "player_cluster = 1-non_player_cluster\n",
    "print(player_cluster)"
   ]
  },
  {
   "cell_type": "code",
   "execution_count": null,
   "id": "cb2ec877",
   "metadata": {},
   "outputs": [],
   "source": [
    "\n",
    "kmeans.cluster_centers_[player_cluster]"
   ]
  }
 ],
 "metadata": {
  "kernelspec": {
   "display_name": "Python 3",
   "language": "python",
   "name": "python3"
  },
  "language_info": {
   "codemirror_mode": {
    "name": "ipython",
    "version": 3
   },
   "file_extension": ".py",
   "mimetype": "text/x-python",
   "name": "python",
   "nbconvert_exporter": "python",
   "pygments_lexer": "ipython3",
   "version": "3.12.0"
  }
 },
 "nbformat": 4,
 "nbformat_minor": 5
}
